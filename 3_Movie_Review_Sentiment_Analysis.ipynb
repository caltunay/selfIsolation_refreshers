{
  "nbformat": 4,
  "nbformat_minor": 0,
  "metadata": {
    "colab": {
      "name": "3. Movie Review Sentiment Analysis.ipynb",
      "provenance": [],
      "collapsed_sections": [
        "DaieEDDArctk"
      ],
      "mount_file_id": "1LOHMndDNp34g0lLI9PfTZ2XSlhBnHYCd",
      "authorship_tag": "ABX9TyOxY9hZQWkct5H+35dTzb3Z",
      "include_colab_link": true
    },
    "kernelspec": {
      "name": "python3",
      "display_name": "Python 3"
    }
  },
  "cells": [
    {
      "cell_type": "markdown",
      "metadata": {
        "id": "view-in-github",
        "colab_type": "text"
      },
      "source": [
        "<a href=\"https://colab.research.google.com/github/caltunay/selfIsolation_refreshers/blob/main/3_Movie_Review_Sentiment_Analysis.ipynb\" target=\"_parent\"><img src=\"https://colab.research.google.com/assets/colab-badge.svg\" alt=\"Open In Colab\"/></a>"
      ]
    },
    {
      "cell_type": "code",
      "metadata": {
        "id": "1_FmIPZ3WKQD"
      },
      "source": [
        "import tarfile"
      ],
      "execution_count": null,
      "outputs": []
    },
    {
      "cell_type": "code",
      "metadata": {
        "colab": {
          "base_uri": "https://localhost:8080/",
          "height": 334
        },
        "id": "F0tpv_bYWKQn",
        "outputId": "1d1e1d42-ab34-40d3-b557-fba79db3af1c"
      },
      "source": [
        "tar = tarfile.open('http://www.cs.jhu.edu/~mdredze/datasets/sentiment/domain_sentiment_data.tar.gz')\r\n",
        "tar.extractall()"
      ],
      "execution_count": null,
      "outputs": [
        {
          "output_type": "error",
          "ename": "FileNotFoundError",
          "evalue": "ignored",
          "traceback": [
            "\u001b[0;31m---------------------------------------------------------------------------\u001b[0m",
            "\u001b[0;31mFileNotFoundError\u001b[0m                         Traceback (most recent call last)",
            "\u001b[0;32m<ipython-input-4-66100c798a76>\u001b[0m in \u001b[0;36m<module>\u001b[0;34m()\u001b[0m\n\u001b[0;32m----> 1\u001b[0;31m \u001b[0mtar\u001b[0m \u001b[0;34m=\u001b[0m \u001b[0mtarfile\u001b[0m\u001b[0;34m.\u001b[0m\u001b[0mopen\u001b[0m\u001b[0;34m(\u001b[0m\u001b[0;34m'http://www.cs.jhu.edu/~mdredze/datasets/sentiment/domain_sentiment_data.tar.gz'\u001b[0m\u001b[0;34m)\u001b[0m\u001b[0;34m\u001b[0m\u001b[0;34m\u001b[0m\u001b[0m\n\u001b[0m\u001b[1;32m      2\u001b[0m \u001b[0mtar\u001b[0m\u001b[0;34m.\u001b[0m\u001b[0mextractall\u001b[0m\u001b[0;34m(\u001b[0m\u001b[0;34m)\u001b[0m\u001b[0;34m\u001b[0m\u001b[0;34m\u001b[0m\u001b[0m\n",
            "\u001b[0;32m/usr/lib/python3.6/tarfile.py\u001b[0m in \u001b[0;36mopen\u001b[0;34m(cls, name, mode, fileobj, bufsize, **kwargs)\u001b[0m\n\u001b[1;32m   1571\u001b[0m                     \u001b[0msaved_pos\u001b[0m \u001b[0;34m=\u001b[0m \u001b[0mfileobj\u001b[0m\u001b[0;34m.\u001b[0m\u001b[0mtell\u001b[0m\u001b[0;34m(\u001b[0m\u001b[0;34m)\u001b[0m\u001b[0;34m\u001b[0m\u001b[0;34m\u001b[0m\u001b[0m\n\u001b[1;32m   1572\u001b[0m                 \u001b[0;32mtry\u001b[0m\u001b[0;34m:\u001b[0m\u001b[0;34m\u001b[0m\u001b[0;34m\u001b[0m\u001b[0m\n\u001b[0;32m-> 1573\u001b[0;31m                     \u001b[0;32mreturn\u001b[0m \u001b[0mfunc\u001b[0m\u001b[0;34m(\u001b[0m\u001b[0mname\u001b[0m\u001b[0;34m,\u001b[0m \u001b[0;34m\"r\"\u001b[0m\u001b[0;34m,\u001b[0m \u001b[0mfileobj\u001b[0m\u001b[0;34m,\u001b[0m \u001b[0;34m**\u001b[0m\u001b[0mkwargs\u001b[0m\u001b[0;34m)\u001b[0m\u001b[0;34m\u001b[0m\u001b[0;34m\u001b[0m\u001b[0m\n\u001b[0m\u001b[1;32m   1574\u001b[0m                 \u001b[0;32mexcept\u001b[0m \u001b[0;34m(\u001b[0m\u001b[0mReadError\u001b[0m\u001b[0;34m,\u001b[0m \u001b[0mCompressionError\u001b[0m\u001b[0;34m)\u001b[0m\u001b[0;34m:\u001b[0m\u001b[0;34m\u001b[0m\u001b[0;34m\u001b[0m\u001b[0m\n\u001b[1;32m   1575\u001b[0m                     \u001b[0;32mif\u001b[0m \u001b[0mfileobj\u001b[0m \u001b[0;32mis\u001b[0m \u001b[0;32mnot\u001b[0m \u001b[0;32mNone\u001b[0m\u001b[0;34m:\u001b[0m\u001b[0;34m\u001b[0m\u001b[0;34m\u001b[0m\u001b[0m\n",
            "\u001b[0;32m/usr/lib/python3.6/tarfile.py\u001b[0m in \u001b[0;36mgzopen\u001b[0;34m(cls, name, mode, fileobj, compresslevel, **kwargs)\u001b[0m\n\u001b[1;32m   1636\u001b[0m \u001b[0;34m\u001b[0m\u001b[0m\n\u001b[1;32m   1637\u001b[0m         \u001b[0;32mtry\u001b[0m\u001b[0;34m:\u001b[0m\u001b[0;34m\u001b[0m\u001b[0;34m\u001b[0m\u001b[0m\n\u001b[0;32m-> 1638\u001b[0;31m             \u001b[0mfileobj\u001b[0m \u001b[0;34m=\u001b[0m \u001b[0mgzip\u001b[0m\u001b[0;34m.\u001b[0m\u001b[0mGzipFile\u001b[0m\u001b[0;34m(\u001b[0m\u001b[0mname\u001b[0m\u001b[0;34m,\u001b[0m \u001b[0mmode\u001b[0m \u001b[0;34m+\u001b[0m \u001b[0;34m\"b\"\u001b[0m\u001b[0;34m,\u001b[0m \u001b[0mcompresslevel\u001b[0m\u001b[0;34m,\u001b[0m \u001b[0mfileobj\u001b[0m\u001b[0;34m)\u001b[0m\u001b[0;34m\u001b[0m\u001b[0;34m\u001b[0m\u001b[0m\n\u001b[0m\u001b[1;32m   1639\u001b[0m         \u001b[0;32mexcept\u001b[0m \u001b[0mOSError\u001b[0m\u001b[0;34m:\u001b[0m\u001b[0;34m\u001b[0m\u001b[0;34m\u001b[0m\u001b[0m\n\u001b[1;32m   1640\u001b[0m             \u001b[0;32mif\u001b[0m \u001b[0mfileobj\u001b[0m \u001b[0;32mis\u001b[0m \u001b[0;32mnot\u001b[0m \u001b[0;32mNone\u001b[0m \u001b[0;32mand\u001b[0m \u001b[0mmode\u001b[0m \u001b[0;34m==\u001b[0m \u001b[0;34m'r'\u001b[0m\u001b[0;34m:\u001b[0m\u001b[0;34m\u001b[0m\u001b[0;34m\u001b[0m\u001b[0m\n",
            "\u001b[0;32m/usr/lib/python3.6/gzip.py\u001b[0m in \u001b[0;36m__init__\u001b[0;34m(self, filename, mode, compresslevel, fileobj, mtime)\u001b[0m\n\u001b[1;32m    161\u001b[0m             \u001b[0mmode\u001b[0m \u001b[0;34m+=\u001b[0m \u001b[0;34m'b'\u001b[0m\u001b[0;34m\u001b[0m\u001b[0;34m\u001b[0m\u001b[0m\n\u001b[1;32m    162\u001b[0m         \u001b[0;32mif\u001b[0m \u001b[0mfileobj\u001b[0m \u001b[0;32mis\u001b[0m \u001b[0;32mNone\u001b[0m\u001b[0;34m:\u001b[0m\u001b[0;34m\u001b[0m\u001b[0;34m\u001b[0m\u001b[0m\n\u001b[0;32m--> 163\u001b[0;31m             \u001b[0mfileobj\u001b[0m \u001b[0;34m=\u001b[0m \u001b[0mself\u001b[0m\u001b[0;34m.\u001b[0m\u001b[0mmyfileobj\u001b[0m \u001b[0;34m=\u001b[0m \u001b[0mbuiltins\u001b[0m\u001b[0;34m.\u001b[0m\u001b[0mopen\u001b[0m\u001b[0;34m(\u001b[0m\u001b[0mfilename\u001b[0m\u001b[0;34m,\u001b[0m \u001b[0mmode\u001b[0m \u001b[0;32mor\u001b[0m \u001b[0;34m'rb'\u001b[0m\u001b[0;34m)\u001b[0m\u001b[0;34m\u001b[0m\u001b[0;34m\u001b[0m\u001b[0m\n\u001b[0m\u001b[1;32m    164\u001b[0m         \u001b[0;32mif\u001b[0m \u001b[0mfilename\u001b[0m \u001b[0;32mis\u001b[0m \u001b[0;32mNone\u001b[0m\u001b[0;34m:\u001b[0m\u001b[0;34m\u001b[0m\u001b[0;34m\u001b[0m\u001b[0m\n\u001b[1;32m    165\u001b[0m             \u001b[0mfilename\u001b[0m \u001b[0;34m=\u001b[0m \u001b[0mgetattr\u001b[0m\u001b[0;34m(\u001b[0m\u001b[0mfileobj\u001b[0m\u001b[0;34m,\u001b[0m \u001b[0;34m'name'\u001b[0m\u001b[0;34m,\u001b[0m \u001b[0;34m''\u001b[0m\u001b[0;34m)\u001b[0m\u001b[0;34m\u001b[0m\u001b[0;34m\u001b[0m\u001b[0m\n",
            "\u001b[0;31mFileNotFoundError\u001b[0m: [Errno 2] No such file or directory: 'http://www.cs.jhu.edu/~mdredze/datasets/sentiment/domain_sentiment_data.tar.gz'"
          ]
        }
      ]
    },
    {
      "cell_type": "code",
      "metadata": {
        "colab": {
          "base_uri": "https://localhost:8080/"
        },
        "id": "rvgIYhT9WKRM",
        "outputId": "b2bd687d-ea6c-4e88-818b-91d897f1f886"
      },
      "source": [
        "!tar xvzf \"/content/drive/MyDrive/Colab Notebooks/NLP - Data Science: Natural Language Processing (NLP) in Python/domain_sentiment_data.tar.gz\""
      ],
      "execution_count": null,
      "outputs": [
        {
          "output_type": "stream",
          "text": [
            "sorted_data_acl/dvd/negative.review\n",
            "sorted_data_acl/dvd/unlabeled.review\n",
            "sorted_data_acl/dvd/positive.review\n",
            "sorted_data_acl/kitchen_&_housewares/negative.review\n",
            "sorted_data_acl/kitchen_&_housewares/unlabeled.review\n",
            "sorted_data_acl/kitchen_&_housewares/positive.review\n",
            "sorted_data_acl/books/negative.review\n",
            "sorted_data_acl/books/positive.review\n",
            "sorted_data_acl/electronics/negative.review\n",
            "sorted_data_acl/electronics/unlabeled.review\n",
            "sorted_data_acl/electronics/positive.review\n"
          ],
          "name": "stdout"
        }
      ]
    },
    {
      "cell_type": "code",
      "metadata": {
        "id": "Arf3etA_WIyt"
      },
      "source": [
        "from bs4 import BeautifulSoup"
      ],
      "execution_count": null,
      "outputs": []
    },
    {
      "cell_type": "code",
      "metadata": {
        "id": "cVWJzjTuWJ1t"
      },
      "source": [
        "positive_reviews = BeautifulSoup(open('/content/sorted_data_acl/electronics/positive.review').read(), features = 'html5lib')"
      ],
      "execution_count": null,
      "outputs": []
    },
    {
      "cell_type": "code",
      "metadata": {
        "id": "G2zb2LZXWJ9i"
      },
      "source": [
        "positive_reviews"
      ],
      "execution_count": null,
      "outputs": []
    },
    {
      "cell_type": "code",
      "metadata": {
        "id": "Xc1tb-3yWJ_p"
      },
      "source": [
        "import pandas as pd\r\n",
        "import numpy as np"
      ],
      "execution_count": null,
      "outputs": []
    },
    {
      "cell_type": "code",
      "metadata": {
        "id": "4PlbGFQRWKBa"
      },
      "source": [
        "negative_reviews = BeautifulSoup(open('/content/sorted_data_acl/electronics/negative.review').read())\r\n",
        "negative_reviews"
      ],
      "execution_count": null,
      "outputs": []
    },
    {
      "cell_type": "code",
      "metadata": {
        "id": "aPwxz2rmWKCd"
      },
      "source": [
        "<review>\r\n",
        "\r\n",
        "    <unique_id>\r\n",
        "        B00032Q1IK:i_don't_know_what_i_can_do_with_this:y._kim_\"flyshoe\"\r\n",
        "    </unique_id>\r\n",
        "    \r\n",
        "    <asin>\r\n",
        "        B00032Q1IK\r\n",
        "    </asin>\r\n",
        "   \r\n",
        "    <product_name>\r\n",
        "        Lexar Media Single-Slot USB 2.0 Multi-Card Reader (Model RW023-001): Electronics\r\n",
        "    </product_name>\r\n",
        "    \r\n",
        "    <product_type>\r\n",
        "    electronics\r\n",
        "    </product_type>\r\n",
        "    \r\n",
        "    <helpful>\r\n",
        "    5 of 6\r\n",
        "    </helpful>\r\n",
        "    \r\n",
        "    <rating>\r\n",
        "    2.0\r\n",
        "    </rating>\r\n",
        "    \r\n",
        "    <title>\r\n",
        "    I don't know what I can do with this\r\n",
        "    </title>\r\n",
        "    \r\n",
        "    <date>\r\n",
        "    April 6, 2006\r\n",
        "    </date>\r\n",
        "    \r\n",
        "    <reviewer>\r\n",
        "    Y. Kim \"flyshoe\"\r\n",
        "    </reviewer>\r\n",
        "    \r\n",
        "    <reviewer_location>\r\n",
        "    USA\r\n",
        "    </reviewer_location>\r\n",
        "    \r\n",
        "    <review_text>\r\n",
        "    I bought this for easy transfer of pictures from my digital camera with SD memory card anywhere not home and sometimes from other peoples memory card (xD and memory stick)..\r\n",
        "\r\n",
        "    First of all I was disappointed with the flimsy, plastic design and the size of it. But it would have been ok if it worked!..IT DOESNT READ my SD card. And as menetioned in other people's review hard to insert and take out the cards! I'm scared if the cards get scratch and ruined whenever i do it. I wish I have bought this after reading amazon reviews...it's useless now. I'm lost how I can get sd card work on this and if I do, scared of frequent use for the flimsy design\r\n",
        "    </review_text>\r\n",
        "\r\n",
        "</review>"
      ],
      "execution_count": null,
      "outputs": []
    },
    {
      "cell_type": "code",
      "metadata": {
        "id": "s2dyozQwWKC_"
      },
      "source": [
        "review_tags = 'unique_id asin product_name product_type helpful rating title date reviewer review_text'.split()"
      ],
      "execution_count": null,
      "outputs": []
    },
    {
      "cell_type": "code",
      "metadata": {
        "id": "gpHYXrgvWKG8"
      },
      "source": [
        "neg_arr = np.array(negative_reviews.findAll(review_tags))\r\n",
        "pos_arr = np.array(positive_reviews.findAll(review_tags))\r\n",
        "\r\n",
        "for i in range(len(neg_arr)):\r\n",
        "    neg_arr[i][0] = neg_arr[i][0].replace('\\n','')\r\n",
        "\r\n",
        "for i in range(len(pos_arr)):\r\n",
        "    pos_arr[i][0] = pos_arr[i][0].replace('\\n','')"
      ],
      "execution_count": null,
      "outputs": []
    },
    {
      "cell_type": "code",
      "metadata": {
        "id": "jHUDZfJ9WKHe"
      },
      "source": [
        "neg_df = pd.DataFrame(neg_arr.reshape(np.int(len(neg_arr) / len(review_tags)), len(review_tags)), columns = review_tags)\r\n",
        "pos_df = pd.DataFrame(pos_arr.reshape(np.int(len(pos_arr) / len(review_tags)), len(review_tags)), columns = review_tags)"
      ],
      "execution_count": null,
      "outputs": []
    },
    {
      "cell_type": "code",
      "metadata": {
        "colab": {
          "base_uri": "https://localhost:8080/",
          "height": 264
        },
        "id": "TCBin7jvWKIB",
        "outputId": "2305168b-c5a4-44ed-e164-e4e34c534cdc"
      },
      "source": [
        "neg_df.sample(5)"
      ],
      "execution_count": null,
      "outputs": [
        {
          "output_type": "execute_result",
          "data": {
            "text/html": [
              "<div>\n",
              "<style scoped>\n",
              "    .dataframe tbody tr th:only-of-type {\n",
              "        vertical-align: middle;\n",
              "    }\n",
              "\n",
              "    .dataframe tbody tr th {\n",
              "        vertical-align: top;\n",
              "    }\n",
              "\n",
              "    .dataframe thead th {\n",
              "        text-align: right;\n",
              "    }\n",
              "</style>\n",
              "<table border=\"1\" class=\"dataframe\">\n",
              "  <thead>\n",
              "    <tr style=\"text-align: right;\">\n",
              "      <th></th>\n",
              "      <th>unique_id</th>\n",
              "      <th>asin</th>\n",
              "      <th>product_name</th>\n",
              "      <th>product_type</th>\n",
              "      <th>helpful</th>\n",
              "      <th>rating</th>\n",
              "      <th>title</th>\n",
              "      <th>date</th>\n",
              "      <th>reviewer</th>\n",
              "      <th>review_text</th>\n",
              "    </tr>\n",
              "  </thead>\n",
              "  <tbody>\n",
              "    <tr>\n",
              "      <th>898</th>\n",
              "      <td>B00000JZKB:no_service_really:daniel_g._ramirez</td>\n",
              "      <td>B00000JZKB</td>\n",
              "      <td>Texas Instruments BA II Plus Business Analyst ...</td>\n",
              "      <td>electronics</td>\n",
              "      <td>2 of 7</td>\n",
              "      <td>1.0</td>\n",
              "      <td>no service really</td>\n",
              "      <td>March 5, 2006</td>\n",
              "      <td>Daniel G. Ramirez</td>\n",
              "      <td>never received the item.  Have to go thru the ...</td>\n",
              "    </tr>\n",
              "    <tr>\n",
              "      <th>330</th>\n",
              "      <td>B00005N5Y2:do_not_buy_a_nwb_phone:nancy_c._hunter</td>\n",
              "      <td>B00005N5Y2</td>\n",
              "      <td>Northwestern Bell 76510 Corded Speakerphone wi...</td>\n",
              "      <td>electronics</td>\n",
              "      <td>22 of 29</td>\n",
              "      <td>1.0</td>\n",
              "      <td>Do not buy a NWB phone</td>\n",
              "      <td>July 18, 2003</td>\n",
              "      <td>nancy c. hunter</td>\n",
              "      <td>After having my old phone for 40 years I bough...</td>\n",
              "    </tr>\n",
              "    <tr>\n",
              "      <th>450</th>\n",
              "      <td>B0006BKH3S:nifty_device_but_display_tough_to_r...</td>\n",
              "      <td>B0006BKH3S</td>\n",
              "      <td>Monster A-IP-FM-CH-PS Wireless FM Transmitter:...</td>\n",
              "      <td>electronics</td>\n",
              "      <td>0 of 1</td>\n",
              "      <td>1.0</td>\n",
              "      <td>Nifty device but display tough to read in dayl...</td>\n",
              "      <td>November 2, 2006</td>\n",
              "      <td>Chaz Cone</td>\n",
              "      <td>This is my second one of these (I pinched off ...</td>\n",
              "    </tr>\n",
              "    <tr>\n",
              "      <th>610</th>\n",
              "      <td>B000636FJG:good_drive_when_it_works,_but_warra...</td>\n",
              "      <td>B000636FJG</td>\n",
              "      <td>Sony DRX710UL DVD+R Double Layer External DVD+...</td>\n",
              "      <td>electronics</td>\n",
              "      <td>17 of 19</td>\n",
              "      <td>2.0</td>\n",
              "      <td>Good drive when it works, but warranty support...</td>\n",
              "      <td>June 8, 2005</td>\n",
              "      <td>gman79</td>\n",
              "      <td>I am on my third drive now, thanks to the firs...</td>\n",
              "    </tr>\n",
              "    <tr>\n",
              "      <th>943</th>\n",
              "      <td>B000ETTFRG:this_product_stinks:chris</td>\n",
              "      <td>B000ETTFRG</td>\n",
              "      <td>SanDisk SDMX4-6144 Sansa e270 6 GB MP3 Player ...</td>\n",
              "      <td>electronics</td>\n",
              "      <td>11 of 30</td>\n",
              "      <td>1.0</td>\n",
              "      <td>This product stinks</td>\n",
              "      <td>November 21, 2006</td>\n",
              "      <td>Chris</td>\n",
              "      <td>I dislike ipods so i figure I try something el...</td>\n",
              "    </tr>\n",
              "  </tbody>\n",
              "</table>\n",
              "</div>"
            ],
            "text/plain": [
              "                                             unique_id  ...                                        review_text\n",
              "898     B00000JZKB:no_service_really:daniel_g._ramirez  ...  never received the item.  Have to go thru the ...\n",
              "330  B00005N5Y2:do_not_buy_a_nwb_phone:nancy_c._hunter  ...  After having my old phone for 40 years I bough...\n",
              "450  B0006BKH3S:nifty_device_but_display_tough_to_r...  ...  This is my second one of these (I pinched off ...\n",
              "610  B000636FJG:good_drive_when_it_works,_but_warra...  ...  I am on my third drive now, thanks to the firs...\n",
              "943               B000ETTFRG:this_product_stinks:chris  ...  I dislike ipods so i figure I try something el...\n",
              "\n",
              "[5 rows x 10 columns]"
            ]
          },
          "metadata": {
            "tags": []
          },
          "execution_count": 131
        }
      ]
    },
    {
      "cell_type": "code",
      "metadata": {
        "colab": {
          "base_uri": "https://localhost:8080/",
          "height": 264
        },
        "id": "T0BV0_FqWKJN",
        "outputId": "d0e11df9-77e6-40f8-b11d-63b2e44da030"
      },
      "source": [
        "pos_df.sample(5)"
      ],
      "execution_count": null,
      "outputs": [
        {
          "output_type": "execute_result",
          "data": {
            "text/html": [
              "<div>\n",
              "<style scoped>\n",
              "    .dataframe tbody tr th:only-of-type {\n",
              "        vertical-align: middle;\n",
              "    }\n",
              "\n",
              "    .dataframe tbody tr th {\n",
              "        vertical-align: top;\n",
              "    }\n",
              "\n",
              "    .dataframe thead th {\n",
              "        text-align: right;\n",
              "    }\n",
              "</style>\n",
              "<table border=\"1\" class=\"dataframe\">\n",
              "  <thead>\n",
              "    <tr style=\"text-align: right;\">\n",
              "      <th></th>\n",
              "      <th>unique_id</th>\n",
              "      <th>asin</th>\n",
              "      <th>product_name</th>\n",
              "      <th>product_type</th>\n",
              "      <th>helpful</th>\n",
              "      <th>rating</th>\n",
              "      <th>title</th>\n",
              "      <th>date</th>\n",
              "      <th>reviewer</th>\n",
              "      <th>review_text</th>\n",
              "    </tr>\n",
              "  </thead>\n",
              "  <tbody>\n",
              "    <tr>\n",
              "      <th>977</th>\n",
              "      <td>B0009VLF6S:how_to_deregister_phone:bernardo_za...</td>\n",
              "      <td>B0009VLF6S</td>\n",
              "      <td>Uniden TCX805 Accessory Handset For One- or Tw...</td>\n",
              "      <td>electronics</td>\n",
              "      <td></td>\n",
              "      <td>5.0</td>\n",
              "      <td>How to deregister phone</td>\n",
              "      <td>September 14, 2006</td>\n",
              "      <td>Bernardo Zamora \"el_ber\"</td>\n",
              "      <td>The phone works great!. I have three of these ...</td>\n",
              "    </tr>\n",
              "    <tr>\n",
              "      <th>57</th>\n",
              "      <td>B000050AQ7:great_space_saver!:mr._dip</td>\n",
              "      <td>B000050AQ7</td>\n",
              "      <td>Memorex 32021926 Clear Slim Jewel Cases (25-Pa...</td>\n",
              "      <td>electronics</td>\n",
              "      <td>2 of 2</td>\n",
              "      <td>5.0</td>\n",
              "      <td>Great space saver!</td>\n",
              "      <td>June 9, 2005</td>\n",
              "      <td>Mr. Dip</td>\n",
              "      <td>I like keeping all my stuff in one place, but ...</td>\n",
              "    </tr>\n",
              "    <tr>\n",
              "      <th>562</th>\n",
              "      <td>B000A5TAT2:very_easy_to_use_and_quick_to_acqui...</td>\n",
              "      <td>B000A5TAT2</td>\n",
              "      <td>Garmin Streetpilot C340 Portable GPS Navigatio...</td>\n",
              "      <td>electronics</td>\n",
              "      <td>22 of 22</td>\n",
              "      <td>5.0</td>\n",
              "      <td>Very easy to use and quick to acquire satellites</td>\n",
              "      <td>November 16, 2006</td>\n",
              "      <td>T. Milligan</td>\n",
              "      <td>I have to admit, I'm a GPS junkie.  I've had a...</td>\n",
              "    </tr>\n",
              "    <tr>\n",
              "      <th>592</th>\n",
              "      <td>B000086A2I:great_but_quirky_large-format_linux...</td>\n",
              "      <td>B000086A2I</td>\n",
              "      <td>Epson Stylus Photo 1280 Inkjet Printer (Silver...</td>\n",
              "      <td>electronics</td>\n",
              "      <td>5 of 5</td>\n",
              "      <td>4.0</td>\n",
              "      <td>Great but quirky large-format linux printer</td>\n",
              "      <td>June 2, 2006</td>\n",
              "      <td>R. D Johnson</td>\n",
              "      <td>I've had my Epson 1280 for over two years now ...</td>\n",
              "    </tr>\n",
              "    <tr>\n",
              "      <th>970</th>\n",
              "      <td>B00006L4XU:awesome_accessory:\"vc_george06\"</td>\n",
              "      <td>B00006L4XU</td>\n",
              "      <td>Targus PA215U Retractable Flat FireWire Cable:...</td>\n",
              "      <td>electronics</td>\n",
              "      <td>2 of 2</td>\n",
              "      <td>5.0</td>\n",
              "      <td>Awesome Accessory</td>\n",
              "      <td>July 29, 2002</td>\n",
              "      <td>\"vc_george06\"</td>\n",
              "      <td>This is the perfect product for someone who tr...</td>\n",
              "    </tr>\n",
              "  </tbody>\n",
              "</table>\n",
              "</div>"
            ],
            "text/plain": [
              "                                             unique_id  ...                                        review_text\n",
              "977  B0009VLF6S:how_to_deregister_phone:bernardo_za...  ...  The phone works great!. I have three of these ...\n",
              "57               B000050AQ7:great_space_saver!:mr._dip  ...  I like keeping all my stuff in one place, but ...\n",
              "562  B000A5TAT2:very_easy_to_use_and_quick_to_acqui...  ...  I have to admit, I'm a GPS junkie.  I've had a...\n",
              "592  B000086A2I:great_but_quirky_large-format_linux...  ...  I've had my Epson 1280 for over two years now ...\n",
              "970         B00006L4XU:awesome_accessory:\"vc_george06\"  ...  This is the perfect product for someone who tr...\n",
              "\n",
              "[5 rows x 10 columns]"
            ]
          },
          "metadata": {
            "tags": []
          },
          "execution_count": 132
        }
      ]
    },
    {
      "cell_type": "code",
      "metadata": {
        "colab": {
          "base_uri": "https://localhost:8080/"
        },
        "id": "7zhDWkYRWKJx",
        "outputId": "a508f24f-c2ad-4776-89b9-284c08c3cebf"
      },
      "source": [
        "neg_df.info()"
      ],
      "execution_count": null,
      "outputs": [
        {
          "output_type": "stream",
          "text": [
            "<class 'pandas.core.frame.DataFrame'>\n",
            "RangeIndex: 1000 entries, 0 to 999\n",
            "Data columns (total 10 columns):\n",
            " #   Column        Non-Null Count  Dtype \n",
            "---  ------        --------------  ----- \n",
            " 0   unique_id     1000 non-null   object\n",
            " 1   asin          1000 non-null   object\n",
            " 2   product_name  1000 non-null   object\n",
            " 3   product_type  1000 non-null   object\n",
            " 4   helpful       1000 non-null   object\n",
            " 5   rating        1000 non-null   object\n",
            " 6   title         1000 non-null   object\n",
            " 7   date          1000 non-null   object\n",
            " 8   reviewer      1000 non-null   object\n",
            " 9   review_text   1000 non-null   object\n",
            "dtypes: object(10)\n",
            "memory usage: 78.2+ KB\n"
          ],
          "name": "stdout"
        }
      ]
    },
    {
      "cell_type": "code",
      "metadata": {
        "colab": {
          "base_uri": "https://localhost:8080/"
        },
        "id": "W-Yy97ylWKKT",
        "outputId": "8d0ed850-e268-4d54-d632-7a19662330c5"
      },
      "source": [
        "pos_df.info()"
      ],
      "execution_count": null,
      "outputs": [
        {
          "output_type": "stream",
          "text": [
            "<class 'pandas.core.frame.DataFrame'>\n",
            "RangeIndex: 1000 entries, 0 to 999\n",
            "Data columns (total 10 columns):\n",
            " #   Column        Non-Null Count  Dtype \n",
            "---  ------        --------------  ----- \n",
            " 0   unique_id     1000 non-null   object\n",
            " 1   asin          1000 non-null   object\n",
            " 2   product_name  1000 non-null   object\n",
            " 3   product_type  1000 non-null   object\n",
            " 4   helpful       1000 non-null   object\n",
            " 5   rating        1000 non-null   object\n",
            " 6   title         1000 non-null   object\n",
            " 7   date          1000 non-null   object\n",
            " 8   reviewer      1000 non-null   object\n",
            " 9   review_text   1000 non-null   object\n",
            "dtypes: object(10)\n",
            "memory usage: 78.2+ KB\n"
          ],
          "name": "stdout"
        }
      ]
    },
    {
      "cell_type": "code",
      "metadata": {
        "colab": {
          "base_uri": "https://localhost:8080/"
        },
        "id": "kRoVGe2bWKK2",
        "outputId": "d6cf740f-6436-4eff-87a8-a1e660563425"
      },
      "source": [
        "print(neg_df['rating'].unique(), \r\n",
        "      pos_df['rating'].unique())"
      ],
      "execution_count": null,
      "outputs": [
        {
          "output_type": "stream",
          "text": [
            "['2.0' '1.0'] ['5.0' '4.0']\n"
          ],
          "name": "stdout"
        }
      ]
    },
    {
      "cell_type": "code",
      "metadata": {
        "id": "t5BEpikSWKLi"
      },
      "source": [
        "from nltk.stem import WordNetLemmatizer"
      ],
      "execution_count": null,
      "outputs": []
    },
    {
      "cell_type": "code",
      "metadata": {
        "id": "NOjY3VRCWKMD"
      },
      "source": [
        "lemmatizer = WordNetLemmatizer()"
      ],
      "execution_count": null,
      "outputs": []
    },
    {
      "cell_type": "code",
      "metadata": {
        "id": "INvAKElNWKM4"
      },
      "source": [
        "df = pd.concat([pos_df, neg_df], ignore_index = True)\r\n",
        "\r\n",
        "df['sentiment'] = df['rating'].apply(lambda x: 1 if np.float(x) >= 4 else 0).values"
      ],
      "execution_count": 346,
      "outputs": []
    },
    {
      "cell_type": "code",
      "metadata": {
        "id": "ZgQKoJPFWKOQ"
      },
      "source": [
        "matrix = df[['review_text', 'sentiment']].sample(frac = 1).values"
      ],
      "execution_count": 348,
      "outputs": []
    },
    {
      "cell_type": "code",
      "metadata": {
        "id": "jRBfp9N0WKRv"
      },
      "source": [
        "y = matrix[:,1].astype(int)"
      ],
      "execution_count": 359,
      "outputs": []
    },
    {
      "cell_type": "code",
      "metadata": {
        "id": "Vh234TnyWKSU",
        "colab": {
          "base_uri": "https://localhost:8080/"
        },
        "outputId": "b431839f-d184-459f-b18d-59a559d8cf67"
      },
      "source": [
        "df['review_text']"
      ],
      "execution_count": 178,
      "outputs": [
        {
          "output_type": "execute_result",
          "data": {
            "text/plain": [
              "0       I purchased this unit due to frequent blackout...\n",
              "1       I ordered 3 APC Back-UPS ES 500s on the recomm...\n",
              "2       Wish the unit had a separate online/offline li...\n",
              "3       Cheaper than thick CD cases and less prone to ...\n",
              "4       HiI brought 256 MB Kingston SD card from Amazo...\n",
              "                              ...                        \n",
              "1995    I was really excited for these affordable spea...\n",
              "1996    These speakers sound great - but sometimes you...\n",
              "1997    Agree with the prior reviewers.  I can not get...\n",
              "1998    I have bought several of these. Some came in a...\n",
              "1999    I bought this for easy transfer of pictures fr...\n",
              "Name: review_text, Length: 2000, dtype: object"
            ]
          },
          "metadata": {
            "tags": []
          },
          "execution_count": 178
        }
      ]
    },
    {
      "cell_type": "code",
      "metadata": {
        "id": "DiAc4AtgWKS-"
      },
      "source": [
        "# lowercase\r\n",
        "# remove puntuation\r\n",
        "# lemmatize\r\n",
        "# stopwords"
      ],
      "execution_count": null,
      "outputs": []
    },
    {
      "cell_type": "markdown",
      "metadata": {
        "id": "DaieEDDArctk"
      },
      "source": [
        "# Unit testing / planning on a random string from dataset for preprocessing "
      ]
    },
    {
      "cell_type": "code",
      "metadata": {
        "id": "2rXxWTKjWKTl"
      },
      "source": [
        "sample_text = df['review_text'].apply(lambda x: x.lower())[0]\r\n",
        "sample_text"
      ],
      "execution_count": null,
      "outputs": []
    },
    {
      "cell_type": "code",
      "metadata": {
        "id": "mM7HoxozWKUI"
      },
      "source": [
        "lemmatizer.lemmatize(sample_text)"
      ],
      "execution_count": null,
      "outputs": []
    },
    {
      "cell_type": "code",
      "metadata": {
        "id": "sLLPjk8UWKUr"
      },
      "source": [
        "import nltk\r\n",
        "nltk.download('wordnet')"
      ],
      "execution_count": null,
      "outputs": []
    },
    {
      "cell_type": "code",
      "metadata": {
        "id": "ip0PS5vhWKVP"
      },
      "source": [
        "lemmatizer.lemmatize(sample_text)"
      ],
      "execution_count": null,
      "outputs": []
    },
    {
      "cell_type": "code",
      "metadata": {
        "id": "NpJyzqo6WKV4"
      },
      "source": [
        "sample_text"
      ],
      "execution_count": null,
      "outputs": []
    },
    {
      "cell_type": "code",
      "metadata": {
        "id": "MzoJWzL4WKWd"
      },
      "source": [
        "nltk.tokenize.word_tokenize(sample_text)"
      ],
      "execution_count": null,
      "outputs": []
    },
    {
      "cell_type": "code",
      "metadata": {
        "id": "RbLy7DSIWKXC"
      },
      "source": [
        "nltk.download('punkt')"
      ],
      "execution_count": null,
      "outputs": []
    },
    {
      "cell_type": "code",
      "metadata": {
        "id": "463cKiF0WKXn"
      },
      "source": [
        "sample_text_tokenized = nltk.tokenize.word_tokenize(sample_text)\r\n",
        "sample_text_tokenized[:20]"
      ],
      "execution_count": null,
      "outputs": []
    },
    {
      "cell_type": "code",
      "metadata": {
        "id": "tudaHpTm2cXa"
      },
      "source": [
        "from string import punctuation"
      ],
      "execution_count": 200,
      "outputs": []
    },
    {
      "cell_type": "code",
      "metadata": {
        "id": "bDRcdv9_2cfE"
      },
      "source": [
        "'.'.isalnum()"
      ],
      "execution_count": null,
      "outputs": []
    },
    {
      "cell_type": "code",
      "metadata": {
        "id": "i-KNLjqq2cfr"
      },
      "source": [
        "for punc in punctuation:\r\n",
        "    print(punc.isalnum())"
      ],
      "execution_count": null,
      "outputs": []
    },
    {
      "cell_type": "code",
      "metadata": {
        "id": "m5f7ccjQ2cgl"
      },
      "source": [
        "removed_punc = [token for token in sample_text_tokenized if token.isalnum()]"
      ],
      "execution_count": 207,
      "outputs": []
    },
    {
      "cell_type": "code",
      "metadata": {
        "id": "ZUX4W7su2chO"
      },
      "source": [
        "removed_punc"
      ],
      "execution_count": null,
      "outputs": []
    },
    {
      "cell_type": "code",
      "metadata": {
        "id": "GwWX9rzp2ch3"
      },
      "source": [
        "lemmatizer.lemmatize(sample_text)"
      ],
      "execution_count": null,
      "outputs": []
    },
    {
      "cell_type": "code",
      "metadata": {
        "colab": {
          "base_uri": "https://localhost:8080/",
          "height": 53
        },
        "id": "OEIDjqUI2cii",
        "outputId": "7106cae4-1fe4-4228-cfb2-2629a3b3c042"
      },
      "source": [
        "sample_text"
      ],
      "execution_count": 214,
      "outputs": [
        {
          "output_type": "execute_result",
          "data": {
            "application/vnd.google.colaboratory.intrinsic+json": {
              "type": "string"
            },
            "text/plain": [
              "'i purchased this unit due to frequent blackouts in my area and 2 power supplies going bad.  it will run my cable modem, router, pc, and lcd monitor for 5 minutes.  this is more than enough time to save work and shut down.   equally important, i know that my electronics are receiving clean power.i feel that this investment is minor compared to the loss of valuable data or the failure of equipment due to a power spike or an irregular power supply.as always, amazon had it to me in <2 business days'"
            ]
          },
          "metadata": {
            "tags": []
          },
          "execution_count": 214
        }
      ]
    },
    {
      "cell_type": "code",
      "metadata": {
        "id": "tv6_GI552cjL"
      },
      "source": [
        "lemmatized_sent = ' '.join([lemmatizer.lemmatize(word) for word in removed_punc])\r\n",
        "lemmatized_sent"
      ],
      "execution_count": null,
      "outputs": []
    },
    {
      "cell_type": "code",
      "metadata": {
        "id": "Thr2k3fT2cjy"
      },
      "source": [
        "lemmatized_tokens = [lemmatizer.lemmatize(word) for word in removed_punc]\r\n",
        "lemmatized_tokens"
      ],
      "execution_count": null,
      "outputs": []
    },
    {
      "cell_type": "code",
      "metadata": {
        "colab": {
          "base_uri": "https://localhost:8080/"
        },
        "id": "T0uHwDtB2ckd",
        "outputId": "18309b6d-feba-47ae-e712-859fb2f420a3"
      },
      "source": [
        "nltk.download('stopwords')"
      ],
      "execution_count": 222,
      "outputs": [
        {
          "output_type": "stream",
          "text": [
            "[nltk_data] Downloading package stopwords to /root/nltk_data...\n",
            "[nltk_data]   Unzipping corpora/stopwords.zip.\n"
          ],
          "name": "stdout"
        },
        {
          "output_type": "execute_result",
          "data": {
            "text/plain": [
              "True"
            ]
          },
          "metadata": {
            "tags": []
          },
          "execution_count": 222
        }
      ]
    },
    {
      "cell_type": "code",
      "metadata": {
        "id": "BSwvIV4c2clF"
      },
      "source": [
        "from nltk.corpus import stopwords"
      ],
      "execution_count": 229,
      "outputs": []
    },
    {
      "cell_type": "code",
      "metadata": {
        "id": "bxcGcSWq2cls"
      },
      "source": [
        "stopwords_ = stopwords.words('english')"
      ],
      "execution_count": 237,
      "outputs": []
    },
    {
      "cell_type": "code",
      "metadata": {
        "id": "l2h6ai462cmU"
      },
      "source": [
        "removed_stopwords = [token for token in lemmatized_tokens if token not in stopwords_]"
      ],
      "execution_count": 239,
      "outputs": []
    },
    {
      "cell_type": "code",
      "metadata": {
        "id": "OcDgld3EUFhw"
      },
      "source": [
        "removed_stopwords"
      ],
      "execution_count": null,
      "outputs": []
    },
    {
      "cell_type": "markdown",
      "metadata": {
        "id": "c9gXxi4BrsmF"
      },
      "source": [
        "# Applying to dataset"
      ]
    },
    {
      "cell_type": "code",
      "metadata": {
        "colab": {
          "base_uri": "https://localhost:8080/"
        },
        "id": "A7tvUBwR2cw1",
        "outputId": "1021d06f-7089-4448-9b51-730d42ea875d"
      },
      "source": [
        "!pip install autocorrect"
      ],
      "execution_count": 280,
      "outputs": [
        {
          "output_type": "stream",
          "text": [
            "Collecting autocorrect\n",
            "\u001b[?25l  Downloading https://files.pythonhosted.org/packages/a0/71/eb8c1f83439dfe6cbe1edb03be1f1110b242503b61950e7c292dd557c23e/autocorrect-2.2.2.tar.gz (621kB)\n",
            "\r\u001b[K     |▌                               | 10kB 19.5MB/s eta 0:00:01\r\u001b[K     |█                               | 20kB 25.2MB/s eta 0:00:01\r\u001b[K     |█▋                              | 30kB 24.7MB/s eta 0:00:01\r\u001b[K     |██                              | 40kB 19.2MB/s eta 0:00:01\r\u001b[K     |██▋                             | 51kB 15.3MB/s eta 0:00:01\r\u001b[K     |███▏                            | 61kB 16.7MB/s eta 0:00:01\r\u001b[K     |███▊                            | 71kB 12.5MB/s eta 0:00:01\r\u001b[K     |████▏                           | 81kB 13.4MB/s eta 0:00:01\r\u001b[K     |████▊                           | 92kB 13.5MB/s eta 0:00:01\r\u001b[K     |█████▎                          | 102kB 12.7MB/s eta 0:00:01\r\u001b[K     |█████▉                          | 112kB 12.7MB/s eta 0:00:01\r\u001b[K     |██████▎                         | 122kB 12.7MB/s eta 0:00:01\r\u001b[K     |██████▉                         | 133kB 12.7MB/s eta 0:00:01\r\u001b[K     |███████▍                        | 143kB 12.7MB/s eta 0:00:01\r\u001b[K     |████████                        | 153kB 12.7MB/s eta 0:00:01\r\u001b[K     |████████▍                       | 163kB 12.7MB/s eta 0:00:01\r\u001b[K     |█████████                       | 174kB 12.7MB/s eta 0:00:01\r\u001b[K     |█████████▌                      | 184kB 12.7MB/s eta 0:00:01\r\u001b[K     |██████████                      | 194kB 12.7MB/s eta 0:00:01\r\u001b[K     |██████████▌                     | 204kB 12.7MB/s eta 0:00:01\r\u001b[K     |███████████                     | 215kB 12.7MB/s eta 0:00:01\r\u001b[K     |███████████▋                    | 225kB 12.7MB/s eta 0:00:01\r\u001b[K     |████████████▏                   | 235kB 12.7MB/s eta 0:00:01\r\u001b[K     |████████████▋                   | 245kB 12.7MB/s eta 0:00:01\r\u001b[K     |█████████████▏                  | 256kB 12.7MB/s eta 0:00:01\r\u001b[K     |█████████████▊                  | 266kB 12.7MB/s eta 0:00:01\r\u001b[K     |██████████████▎                 | 276kB 12.7MB/s eta 0:00:01\r\u001b[K     |██████████████▊                 | 286kB 12.7MB/s eta 0:00:01\r\u001b[K     |███████████████▎                | 296kB 12.7MB/s eta 0:00:01\r\u001b[K     |███████████████▉                | 307kB 12.7MB/s eta 0:00:01\r\u001b[K     |████████████████▍               | 317kB 12.7MB/s eta 0:00:01\r\u001b[K     |████████████████▉               | 327kB 12.7MB/s eta 0:00:01\r\u001b[K     |█████████████████▍              | 337kB 12.7MB/s eta 0:00:01\r\u001b[K     |██████████████████              | 348kB 12.7MB/s eta 0:00:01\r\u001b[K     |██████████████████▌             | 358kB 12.7MB/s eta 0:00:01\r\u001b[K     |███████████████████             | 368kB 12.7MB/s eta 0:00:01\r\u001b[K     |███████████████████▌            | 378kB 12.7MB/s eta 0:00:01\r\u001b[K     |████████████████████            | 389kB 12.7MB/s eta 0:00:01\r\u001b[K     |████████████████████▌           | 399kB 12.7MB/s eta 0:00:01\r\u001b[K     |█████████████████████           | 409kB 12.7MB/s eta 0:00:01\r\u001b[K     |█████████████████████▋          | 419kB 12.7MB/s eta 0:00:01\r\u001b[K     |██████████████████████▏         | 430kB 12.7MB/s eta 0:00:01\r\u001b[K     |██████████████████████▋         | 440kB 12.7MB/s eta 0:00:01\r\u001b[K     |███████████████████████▏        | 450kB 12.7MB/s eta 0:00:01\r\u001b[K     |███████████████████████▊        | 460kB 12.7MB/s eta 0:00:01\r\u001b[K     |████████████████████████▎       | 471kB 12.7MB/s eta 0:00:01\r\u001b[K     |████████████████████████▊       | 481kB 12.7MB/s eta 0:00:01\r\u001b[K     |█████████████████████████▎      | 491kB 12.7MB/s eta 0:00:01\r\u001b[K     |█████████████████████████▉      | 501kB 12.7MB/s eta 0:00:01\r\u001b[K     |██████████████████████████▍     | 512kB 12.7MB/s eta 0:00:01\r\u001b[K     |██████████████████████████▉     | 522kB 12.7MB/s eta 0:00:01\r\u001b[K     |███████████████████████████▍    | 532kB 12.7MB/s eta 0:00:01\r\u001b[K     |████████████████████████████    | 542kB 12.7MB/s eta 0:00:01\r\u001b[K     |████████████████████████████▌   | 552kB 12.7MB/s eta 0:00:01\r\u001b[K     |█████████████████████████████   | 563kB 12.7MB/s eta 0:00:01\r\u001b[K     |█████████████████████████████▌  | 573kB 12.7MB/s eta 0:00:01\r\u001b[K     |██████████████████████████████  | 583kB 12.7MB/s eta 0:00:01\r\u001b[K     |██████████████████████████████▋ | 593kB 12.7MB/s eta 0:00:01\r\u001b[K     |███████████████████████████████ | 604kB 12.7MB/s eta 0:00:01\r\u001b[K     |███████████████████████████████▋| 614kB 12.7MB/s eta 0:00:01\r\u001b[K     |████████████████████████████████| 624kB 12.7MB/s \n",
            "\u001b[?25hBuilding wheels for collected packages: autocorrect\n",
            "  Building wheel for autocorrect (setup.py) ... \u001b[?25l\u001b[?25hdone\n",
            "  Created wheel for autocorrect: filename=autocorrect-2.2.2-cp36-none-any.whl size=621492 sha256=1612ce7b83ad1d02ccd84b41933de4e498ea94f9748e360c10b71c427adb6dca\n",
            "  Stored in directory: /root/.cache/pip/wheels/b4/0b/7d/98268d64c8697425f712c897265394486542141bbe4de319d6\n",
            "Successfully built autocorrect\n",
            "Installing collected packages: autocorrect\n",
            "Successfully installed autocorrect-2.2.2\n"
          ],
          "name": "stdout"
        }
      ]
    },
    {
      "cell_type": "code",
      "metadata": {
        "id": "TXCEUUQG2cxg"
      },
      "source": [
        "from autocorrect import spell, Speller"
      ],
      "execution_count": 286,
      "outputs": []
    },
    {
      "cell_type": "code",
      "metadata": {
        "id": "LRhYghMn2cm-"
      },
      "source": [
        "def review_cleaner(text_):\r\n",
        "\r\n",
        "    # in following order - lower case, tokenize, remove punctuation, lemmatize, remove stopwords\r\n",
        "    text_ = text_.lower()\r\n",
        "    text_tokenized = nltk.tokenize.word_tokenize(text_)\r\n",
        "    text_tokenized_no_punc = [token for token in text_tokenized if token.isalnum()]\r\n",
        "    tokenized_no_punc_lemmatized = [WordNetLemmatizer().lemmatize(token) for token in text_tokenized_no_punc]\r\n",
        "    tokenized_no_punc_lemmatized_no_stopwords = [token for token in tokenized_no_punc_lemmatized if token not in stopwords.words('english')]\r\n",
        "    # preprocessed_text = [Speller()(token) for token in tokenized_no_punc_lemmatized_no_stopwords]\r\n",
        "\r\n",
        "    return tokenized_no_punc_lemmatized_no_stopwords"
      ],
      "execution_count": 360,
      "outputs": []
    },
    {
      "cell_type": "code",
      "metadata": {
        "id": "nvY7REmS2csO"
      },
      "source": [
        "from sklearn.feature_extraction.text import TfidfVectorizer"
      ],
      "execution_count": 261,
      "outputs": []
    },
    {
      "cell_type": "code",
      "metadata": {
        "id": "_rfhaiEd2cs2"
      },
      "source": [
        "tfidf_engine = TfidfVectorizer(analyzer = review_cleaner)"
      ],
      "execution_count": 351,
      "outputs": []
    },
    {
      "cell_type": "code",
      "metadata": {
        "id": "sJuUO5Tq2ctj"
      },
      "source": [
        "x = matrix[:,0]\r\n",
        "\r\n",
        "tfidf_x = tfidf_engine.fit_transform(x)\r\n",
        "x_arr = tfidf_x.toarray()"
      ],
      "execution_count": 352,
      "outputs": []
    },
    {
      "cell_type": "code",
      "metadata": {
        "id": "1Z2eh_ey2cuM"
      },
      "source": [
        "from sklearn.naive_bayes import MultinomialNB\r\n",
        "from sklearn.ensemble import AdaBoostClassifier, RandomForestClassifier\r\n",
        "from sklearn.linear_model import LogisticRegression\r\n",
        "from sklearn.svm import SVC\r\n",
        "\r\n",
        "from sklearn.metrics import classification_report, accuracy_score, confusion_matrix\r\n",
        "\r\n",
        "from sklearn.model_selection import train_test_split, StratifiedKFold, KFold"
      ],
      "execution_count": 381,
      "outputs": []
    },
    {
      "cell_type": "code",
      "metadata": {
        "id": "C2DD9_042cu1"
      },
      "source": [
        "# split into train and test\r\n",
        "# split train into kfolds of train and validation\r\n",
        "\r\n",
        "# train of each kfold and test"
      ],
      "execution_count": null,
      "outputs": []
    },
    {
      "cell_type": "code",
      "metadata": {
        "colab": {
          "base_uri": "https://localhost:8080/"
        },
        "id": "qEbeciFO2cvd",
        "outputId": "739f2eec-3bc5-4e96-c702-2cccacdabf1c"
      },
      "source": [
        "x_main, x_test, y_main, y_test = train_test_split(x_arr, y)\r\n",
        "print(x_main.shape, x_test.shape, y_main.shape, y_test.shape)\r\n",
        "# (1500, 9882) (500, 9882) (1500,) (500,)"
      ],
      "execution_count": 361,
      "outputs": [
        {
          "output_type": "stream",
          "text": [
            "(1500, 9882) (500, 9882) (1500,) (500,)\n"
          ],
          "name": "stdout"
        }
      ]
    },
    {
      "cell_type": "code",
      "metadata": {
        "colab": {
          "base_uri": "https://localhost:8080/"
        },
        "id": "kJNelGKG2cz_",
        "outputId": "a89849cd-059a-4725-d019-b8ec04e2e749"
      },
      "source": [
        "kfold = KFold(n_splits = 3, shuffle = True)\r\n",
        "\r\n",
        "model_nb = MultinomialNB()\r\n",
        "model_ada = AdaBoostClassifier()\r\n",
        "model_lr = LogisticRegression()\r\n",
        "model_svc = SVC()\r\n",
        "model_rfc = RandomForestClassifier()\r\n",
        "\r\n",
        "scores_nb, scores_ada, scores_lr, scores_svc, scores_rfc = list(), list(), list(), list(), list(), \r\n",
        "\r\n",
        "models_list = [model_nb, model_ada, model_lr, model_svc, model_rfc]\r\n",
        "scores_list = [scores_nb, scores_ada, scores_lr, scores_svc, scores_rfc]\r\n",
        "\r\n",
        "for train_index, validation_index in kfold.split(x_main, y_main):\r\n",
        "    # print(f'train index:{train_index[:10]}, \\nvalidation index:{validation_index[:10]}')\r\n",
        "\r\n",
        "    # split sets\r\n",
        "    x_train, x_validation = x_main[train_index], x_main[validation_index]\r\n",
        "    y_train, y_validation = y_main[train_index], y_main[validation_index]\r\n",
        "\r\n",
        "    for model, score_ in zip(models_list, scores_list):\r\n",
        "       \r\n",
        "        model_ = model.fit(x_train, y_train)\r\n",
        "        model_score = model_.score(x_validation, y_validation)\r\n",
        "        score_.append(model_score)\r\n",
        "\r\n",
        "\r\n",
        "# print scores\r\n",
        "print(f'''CV Scores:\r\n",
        "\r\n",
        "    Naive Bayes:            {str(round(np.mean(scores_nb), 3) * 100)}%  -with scores {scores_nb}, \r\n",
        "    Ada Boost:              {str(round(np.mean(scores_ada),3) * 100)}% -with scores {scores_ada}, \r\n",
        "    Logistic Regression:    {str(round(np.mean(scores_lr), 3) * 100)}%  -with scores {scores_lr},\r\n",
        "    SVC:                    {str(round(np.mean(scores_svc),3) * 100)}% -with scores {scores_svc},\r\n",
        "    Random Forest:          {str(round(np.mean(scores_rfc), 3) * 100)}%  -with scores {scores_rfc}''')"
      ],
      "execution_count": 392,
      "outputs": [
        {
          "output_type": "stream",
          "text": [
            "CV Scores:\n",
            "\n",
            "    Naive Bayes:            79.5%  -with scores [0.808, 0.788, 0.788], \n",
            "    Ada Boost:              72.6% -with scores [0.724, 0.73, 0.724], \n",
            "    Logistic Regression:    79.10000000000001%  -with scores [0.816, 0.778, 0.778],\n",
            "    SVC:                    78.9% -with scores [0.816, 0.776, 0.774],\n",
            "    Random Forest:          77.60000000000001%  -with scores [0.78, 0.786, 0.762]\n"
          ],
          "name": "stdout"
        }
      ]
    },
    {
      "cell_type": "code",
      "metadata": {
        "id": "iSoWf81M2c4K"
      },
      "source": [
        ""
      ],
      "execution_count": null,
      "outputs": []
    },
    {
      "cell_type": "code",
      "metadata": {
        "id": "iiVA3mNS2c45"
      },
      "source": [
        ""
      ],
      "execution_count": null,
      "outputs": []
    },
    {
      "cell_type": "code",
      "metadata": {
        "id": "NKBw_Fp12c7G"
      },
      "source": [
        ""
      ],
      "execution_count": null,
      "outputs": []
    },
    {
      "cell_type": "code",
      "metadata": {
        "id": "U2jc2f982c71"
      },
      "source": [
        ""
      ],
      "execution_count": null,
      "outputs": []
    },
    {
      "cell_type": "code",
      "metadata": {
        "id": "UvbpByeJ2c8i"
      },
      "source": [
        ""
      ],
      "execution_count": null,
      "outputs": []
    },
    {
      "cell_type": "code",
      "metadata": {
        "id": "VxPOG8-u2c9R"
      },
      "source": [
        ""
      ],
      "execution_count": null,
      "outputs": []
    },
    {
      "cell_type": "code",
      "metadata": {
        "id": "0b2L2igD2c-e"
      },
      "source": [
        ""
      ],
      "execution_count": null,
      "outputs": []
    },
    {
      "cell_type": "code",
      "metadata": {
        "id": "VCTSXcbV2c_K"
      },
      "source": [
        ""
      ],
      "execution_count": null,
      "outputs": []
    },
    {
      "cell_type": "code",
      "metadata": {
        "id": "1UC_6gAX2dAA"
      },
      "source": [
        ""
      ],
      "execution_count": null,
      "outputs": []
    },
    {
      "cell_type": "code",
      "metadata": {
        "id": "41cO_ASQ2dAr"
      },
      "source": [
        ""
      ],
      "execution_count": null,
      "outputs": []
    },
    {
      "cell_type": "code",
      "metadata": {
        "id": "NVpqBG9r2dBY"
      },
      "source": [
        ""
      ],
      "execution_count": null,
      "outputs": []
    },
    {
      "cell_type": "code",
      "metadata": {
        "id": "fcHRN94p2dCH"
      },
      "source": [
        ""
      ],
      "execution_count": null,
      "outputs": []
    },
    {
      "cell_type": "code",
      "metadata": {
        "id": "tSMH1_hS2dC1"
      },
      "source": [
        ""
      ],
      "execution_count": null,
      "outputs": []
    },
    {
      "cell_type": "code",
      "metadata": {
        "id": "jRs8mAcO2dDq"
      },
      "source": [
        ""
      ],
      "execution_count": null,
      "outputs": []
    },
    {
      "cell_type": "code",
      "metadata": {
        "id": "Yjzdnzlm2dEX"
      },
      "source": [
        ""
      ],
      "execution_count": null,
      "outputs": []
    },
    {
      "cell_type": "code",
      "metadata": {
        "id": "oLsUGWUy2dFE"
      },
      "source": [
        ""
      ],
      "execution_count": null,
      "outputs": []
    },
    {
      "cell_type": "code",
      "metadata": {
        "id": "uf6Oui9R2dF1"
      },
      "source": [
        ""
      ],
      "execution_count": null,
      "outputs": []
    },
    {
      "cell_type": "code",
      "metadata": {
        "id": "l2k2taAH2dGj"
      },
      "source": [
        ""
      ],
      "execution_count": null,
      "outputs": []
    },
    {
      "cell_type": "code",
      "metadata": {
        "id": "seB0Wavp2dHR"
      },
      "source": [
        ""
      ],
      "execution_count": null,
      "outputs": []
    },
    {
      "cell_type": "code",
      "metadata": {
        "id": "8MF62LYL2dID"
      },
      "source": [
        ""
      ],
      "execution_count": null,
      "outputs": []
    },
    {
      "cell_type": "code",
      "metadata": {
        "id": "1_oav7c22dIw"
      },
      "source": [
        ""
      ],
      "execution_count": null,
      "outputs": []
    },
    {
      "cell_type": "code",
      "metadata": {
        "id": "gqnQalgj2dJe"
      },
      "source": [
        ""
      ],
      "execution_count": null,
      "outputs": []
    },
    {
      "cell_type": "code",
      "metadata": {
        "id": "6YQscRul2dKM"
      },
      "source": [
        ""
      ],
      "execution_count": null,
      "outputs": []
    },
    {
      "cell_type": "code",
      "metadata": {
        "id": "sKbgY4xY2dK7"
      },
      "source": [
        ""
      ],
      "execution_count": null,
      "outputs": []
    },
    {
      "cell_type": "code",
      "metadata": {
        "id": "m7a-MfNz2dML"
      },
      "source": [
        ""
      ],
      "execution_count": null,
      "outputs": []
    },
    {
      "cell_type": "code",
      "metadata": {
        "id": "AtcsnGkz2dM6"
      },
      "source": [
        ""
      ],
      "execution_count": null,
      "outputs": []
    },
    {
      "cell_type": "code",
      "metadata": {
        "id": "Z98_ekrj2dNq"
      },
      "source": [
        ""
      ],
      "execution_count": null,
      "outputs": []
    },
    {
      "cell_type": "code",
      "metadata": {
        "id": "EflQiZeh2dOc"
      },
      "source": [
        ""
      ],
      "execution_count": null,
      "outputs": []
    },
    {
      "cell_type": "code",
      "metadata": {
        "id": "RIV9XH102dPU"
      },
      "source": [
        ""
      ],
      "execution_count": null,
      "outputs": []
    },
    {
      "cell_type": "code",
      "metadata": {
        "id": "iopwme_32dTc"
      },
      "source": [
        ""
      ],
      "execution_count": null,
      "outputs": []
    },
    {
      "cell_type": "code",
      "metadata": {
        "id": "R3OAhjdpWKYP"
      },
      "source": [
        ""
      ],
      "execution_count": null,
      "outputs": []
    },
    {
      "cell_type": "code",
      "metadata": {
        "id": "U_Qq8zfoWKZN"
      },
      "source": [
        ""
      ],
      "execution_count": null,
      "outputs": []
    }
  ]
}